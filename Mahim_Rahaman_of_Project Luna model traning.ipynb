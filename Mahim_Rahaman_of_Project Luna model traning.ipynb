{
 "cells": [
  {
   "cell_type": "markdown",
   "metadata": {
    "id": "24KcclJsENbd"
   },
   "source": [
    "## 4. Model Design and Implementation"
   ]
  },
  {
   "cell_type": "markdown",
   "metadata": {
    "id": "Z7KXp4J0EQvs"
   },
   "source": [
    "4.1 Design a neural network model with only a flatten layer and two dense layers for classifying lung nodules. You may experiment with different sizes for the hidden layers to improve the training results."
   ]
  },
  {
   "cell_type": "code",
   "execution_count": null,
   "metadata": {
    "colab": {
     "base_uri": "https://localhost:8080/"
    },
    "id": "mRY_Rf4BZlUZ",
    "outputId": "426e36f1-17e8-4194-d9af-fa239efec5c2"
   },
   "outputs": [
    {
     "name": "stdout",
     "output_type": "stream",
     "text": [
      "Train loader batch shape: torch.Size([32, 32, 48, 48])\n",
      "Test loader batch shape: torch.Size([32, 32, 48, 48])\n"
     ]
    }
   ],
   "source": [
    "from torch.utils.data import DataLoader, TensorDataset\n",
    "\n",
    "train_chunks = train_chunks.clone().detach() if isinstance(train_chunks, torch.Tensor) else torch.tensor(train_chunks, dtype=torch.float32)\n",
    "train_labels = train_labels.clone().detach() if isinstance(train_labels, torch.Tensor) else torch.tensor(train_labels, dtype=torch.long)\n",
    "test_chunks = test_chunks.clone().detach() if isinstance(test_chunks, torch.Tensor) else torch.tensor(test_chunks, dtype=torch.float32)\n",
    "test_labels = test_labels.clone().detach() if isinstance(test_labels, torch.Tensor) else torch.tensor(test_labels, dtype=torch.long)\n",
    "\n",
    "\n",
    "train_dataset = TensorDataset(train_chunks, train_labels)\n",
    "train_loader = DataLoader(train_dataset, batch_size=32, shuffle=True)\n",
    "\n",
    "test_dataset = TensorDataset(test_chunks, test_labels)\n",
    "test_loader = DataLoader(test_dataset, batch_size=32, shuffle=False)\n",
    "\n",
    "\n",
    "print(f\"Train loader batch shape: {next(iter(train_loader))[0].shape}\")\n",
    "print(f\"Test loader batch shape: {next(iter(test_loader))[0].shape}\")\n"
   ]
  },
  {
   "cell_type": "code",
   "execution_count": null,
   "metadata": {
    "id": "p8PtyhoAEmhC"
   },
   "outputs": [],
   "source": [
    "import torch\n",
    "import torch.nn as nn\n",
    "import torch.optim as optim\n",
    "\n",
    "class SimpleNN(nn.Module):\n",
    "    def __init__(self, input_size, hidden_size_1, hidden_size_2, output_size):\n",
    "        super(SimpleNN, self).__init__()\n",
    "        self.flatten = nn.Flatten()\n",
    "        self.fc1 = nn.Linear(input_size, hidden_size_1)\n",
    "        self.relu1 = nn.ReLU()\n",
    "        self.fc2 = nn.Linear(hidden_size_1, hidden_size_2)\n",
    "        self.relu2 = nn.ReLU()\n",
    "        self.fc3 = nn.Linear(hidden_size_2, output_size)\n",
    "\n",
    "    def forward(self, x):\n",
    "        x = self.flatten(x)\n",
    "        x = self.fc1(x)\n",
    "        x = self.relu1(x)\n",
    "        x = self.fc2(x)\n",
    "        x = self.relu2(x)\n",
    "        x = self.fc3(x)\n",
    "        return x\n"
   ]
  },
  {
   "cell_type": "code",
   "execution_count": null,
   "metadata": {
    "colab": {
     "base_uri": "https://localhost:8080/"
    },
    "id": "9TA6-UnZ2rVk",
    "outputId": "a514b40a-3d79-4478-ca85-08cdc9028efc"
   },
   "outputs": [
    {
     "data": {
      "text/plain": [
       "SimpleNN(\n",
       "  (flatten): Flatten(start_dim=1, end_dim=-1)\n",
       "  (fc1): Linear(in_features=73728, out_features=128, bias=True)\n",
       "  (relu1): ReLU()\n",
       "  (fc2): Linear(in_features=128, out_features=64, bias=True)\n",
       "  (relu2): ReLU()\n",
       "  (fc3): Linear(in_features=64, out_features=2, bias=True)\n",
       ")"
      ]
     },
     "execution_count": 30,
     "metadata": {},
     "output_type": "execute_result"
    }
   ],
   "source": [
    "input_size = 73728\n",
    "hidden_size_1 = 128\n",
    "hidden_size_2 = 64\n",
    "output_size = 2\n",
    "\n",
    "model = SimpleNN(input_size, hidden_size_1, hidden_size_2, output_size)\n",
    "\n",
    "device = torch.device(\"cuda\" if torch.cuda.is_available() else \"cpu\")\n",
    "model.to(device)\n"
   ]
  },
  {
   "cell_type": "markdown",
   "metadata": {
    "id": "VcDL-bz0Em61"
   },
   "source": [
    "4.2 Create an object to represent the loss function."
   ]
  },
  {
   "cell_type": "code",
   "execution_count": null,
   "metadata": {
    "colab": {
     "base_uri": "https://localhost:8080/"
    },
    "id": "NmqChQUaEmNU",
    "outputId": "98bde035-9c43-4652-a609-9d07bf11c6b1"
   },
   "outputs": [
    {
     "name": "stdout",
     "output_type": "stream",
     "text": [
      "CrossEntropyLoss()\n"
     ]
    }
   ],
   "source": [
    "loss_fn = nn.CrossEntropyLoss()\n",
    "print(loss_fn)\n",
    "\n",
    "\n"
   ]
  },
  {
   "cell_type": "markdown",
   "metadata": {
    "id": "2zTdz_qyEt4T"
   },
   "source": [
    "4.3 Create an object to represent the optimizer."
   ]
  },
  {
   "cell_type": "code",
   "execution_count": null,
   "metadata": {
    "colab": {
     "base_uri": "https://localhost:8080/"
    },
    "id": "qm_G-iVfEwQ7",
    "outputId": "2003ccca-159b-4afe-c14f-6db4e73f73a0"
   },
   "outputs": [
    {
     "name": "stdout",
     "output_type": "stream",
     "text": [
      "Adam (\n",
      "Parameter Group 0\n",
      "    amsgrad: False\n",
      "    betas: (0.9, 0.999)\n",
      "    capturable: False\n",
      "    differentiable: False\n",
      "    eps: 1e-08\n",
      "    foreach: None\n",
      "    fused: None\n",
      "    initial_lr: 0.0005\n",
      "    lr: 0.0005\n",
      "    maximize: False\n",
      "    weight_decay: 0\n",
      ")\n"
     ]
    }
   ],
   "source": [
    "optimizer = optim.Adam(model.parameters(), lr=0.0005)\n",
    "scheduler = optim.lr_scheduler.StepLR(optimizer, step_size=5, gamma=0.5)\n",
    "\n",
    "print(optimizer)"
   ]
  },
  {
   "cell_type": "markdown",
   "metadata": {
    "id": "3wwyhtrFEwe_"
   },
   "source": [
    "4.4 Create a function to represent the training loop.\n",
    "\n",
    "4.5 Execute the training loop. Display the change of training loss during the training process. Choose a reasonable value for the number of training epochs based on your observations.\n"
   ]
  },
  {
   "cell_type": "code",
   "execution_count": null,
   "metadata": {
    "colab": {
     "base_uri": "https://localhost:8080/"
    },
    "id": "JIoSK7NIEzsy",
    "outputId": "489d6ffe-54e7-4c8c-d9bc-516cd4ece67e"
   },
   "outputs": [
    {
     "name": "stdout",
     "output_type": "stream",
     "text": [
      "Epoch 1/20, Training Loss: 0.0007\n",
      "Epoch 1/20, Test Loss: 1.6853, Test Accuracy: 99.90%\n",
      "Epoch 2/20, Training Loss: 0.0007\n",
      "Epoch 2/20, Test Loss: 1.6853, Test Accuracy: 99.90%\n",
      "Epoch 3/20, Training Loss: 0.0007\n",
      "Epoch 3/20, Test Loss: 1.6853, Test Accuracy: 99.90%\n",
      "Epoch 4/20, Training Loss: 0.0007\n",
      "Epoch 4/20, Test Loss: 1.6853, Test Accuracy: 99.90%\n",
      "Epoch 5/20, Training Loss: 0.0007\n",
      "Epoch 5/20, Test Loss: 1.6853, Test Accuracy: 99.90%\n",
      "Epoch 6/20, Training Loss: 0.0007\n",
      "Epoch 6/20, Test Loss: 1.6853, Test Accuracy: 99.90%\n",
      "Epoch 7/20, Training Loss: 0.0007\n",
      "Epoch 7/20, Test Loss: 1.6853, Test Accuracy: 99.90%\n",
      "Epoch 8/20, Training Loss: 0.0007\n",
      "Epoch 8/20, Test Loss: 1.6853, Test Accuracy: 99.90%\n",
      "Epoch 9/20, Training Loss: 0.0007\n",
      "Epoch 9/20, Test Loss: 1.6853, Test Accuracy: 99.90%\n",
      "Epoch 10/20, Training Loss: 0.0007\n",
      "Epoch 10/20, Test Loss: 1.6853, Test Accuracy: 99.90%\n",
      "Epoch 11/20, Training Loss: 0.0007\n",
      "Epoch 11/20, Test Loss: 1.6853, Test Accuracy: 99.90%\n",
      "Epoch 12/20, Training Loss: 0.0007\n",
      "Epoch 12/20, Test Loss: 1.6853, Test Accuracy: 99.90%\n",
      "Epoch 13/20, Training Loss: 0.0007\n",
      "Epoch 13/20, Test Loss: 1.6853, Test Accuracy: 99.90%\n",
      "Epoch 14/20, Training Loss: 0.0007\n",
      "Epoch 14/20, Test Loss: 1.6853, Test Accuracy: 99.90%\n",
      "Epoch 15/20, Training Loss: 0.0007\n",
      "Epoch 15/20, Test Loss: 1.6853, Test Accuracy: 99.90%\n",
      "Epoch 16/20, Training Loss: 0.0007\n",
      "Epoch 16/20, Test Loss: 1.6853, Test Accuracy: 99.90%\n",
      "Epoch 17/20, Training Loss: 0.0007\n",
      "Epoch 17/20, Test Loss: 1.6853, Test Accuracy: 99.90%\n",
      "Epoch 18/20, Training Loss: 0.0007\n",
      "Epoch 18/20, Test Loss: 1.6853, Test Accuracy: 99.90%\n",
      "Epoch 19/20, Training Loss: 0.0007\n",
      "Epoch 19/20, Test Loss: 1.6853, Test Accuracy: 99.90%\n",
      "Epoch 20/20, Training Loss: 0.0007\n",
      "Epoch 20/20, Test Loss: 1.6853, Test Accuracy: 99.90%\n"
     ]
    }
   ],
   "source": [
    "n_epochs = 20\n",
    "for epoch in range(n_epochs):\n",
    "    model.train()\n",
    "    running_loss = 0.0\n",
    "    for img, label in train_loader:\n",
    "        img, label = img.to(device), label.to(device)\n",
    "\n",
    "\n",
    "        out = model(img)\n",
    "\n",
    "\n",
    "        loss = loss_fn(out, label)\n",
    "\n",
    "\n",
    "        optimizer.zero_grad()\n",
    "        loss.backward()\n",
    "        optimizer.step()\n",
    "\n",
    "        running_loss += loss.item()\n",
    "\n",
    "\n",
    "    scheduler.step()\n",
    "\n",
    "    print(f\"Epoch {epoch+1}/{n_epochs}, Training Loss: {running_loss/len(train_loader):.4f}\")\n",
    "\n",
    "\n",
    "    model.eval()\n",
    "    test_loss = 0.0\n",
    "    correct = 0\n",
    "    total = 0\n",
    "    with torch.no_grad():\n",
    "        for img, label in test_loader:\n",
    "            img, label = img.to(device), label.to(device)\n",
    "\n",
    "            out = model(img)\n",
    "\n",
    "            loss = loss_fn(out, label)\n",
    "            test_loss += loss.item()\n",
    "\n",
    "\n",
    "            _, predicted = torch.max(out, 1)\n",
    "            total += label.size(0)\n",
    "            correct += (predicted == label).sum().item()\n",
    "\n",
    "    test_accuracy = 100 * correct / total\n",
    "    print(f\"Epoch {epoch+1}/{n_epochs}, Test Loss: {test_loss/len(test_loader):.4f}, Test Accuracy: {test_accuracy:.2f}%\")\n"
   ]
  }
 ],
 "metadata": {
  "colab": {
   "provenance": []
  },
  "kernelspec": {
   "display_name": "Python 3",
   "name": "python3"
  },
  "language_info": {
   "name": "python"
  }
 },
 "nbformat": 4,
 "nbformat_minor": 0
}
